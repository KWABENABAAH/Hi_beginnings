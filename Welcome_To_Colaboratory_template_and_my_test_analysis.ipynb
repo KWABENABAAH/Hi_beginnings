{
  "nbformat": 4,
  "nbformat_minor": 0,
  "metadata": {
    "colab": {
      "provenance": [],
      "collapsed_sections": [],
      "include_colab_link": true
    },
    "kernelspec": {
      "display_name": "Python 3",
      "name": "python3"
    }
  },
  "cells": [
    {
      "cell_type": "markdown",
      "metadata": {
        "id": "view-in-github",
        "colab_type": "text"
      },
      "source": [
        "<a href=\"https://colab.research.google.com/github/KWABENABAAH/Hi_beginnings/blob/main/Welcome_To_Colaboratory_template_and_my_test_analysis.ipynb\" target=\"_parent\"><img src=\"https://colab.research.google.com/assets/colab-badge.svg\" alt=\"Open In Colab\"/></a>"
      ]
    },
    {
      "cell_type": "markdown",
      "metadata": {
        "id": "5fCEDCU_qrC0"
      },
      "source": [
        "<p><img alt=\"Colaboratory logo\" height=\"45px\" src=\"/img/colab_favicon.ico\" align=\"left\" hspace=\"10px\" vspace=\"0px\"></p>\n",
        "\n",
        "<h1>What is Colaboratory?</h1>\n",
        "\n",
        "Colaboratory, or \"Colab\" for short, allows you to write and execute Python in your browser, with \n",
        "- Zero configuration required\n",
        "- Free access to GPUs\n",
        "- Easy sharing\n",
        "\n",
        "Whether you're a **student**, a **data scientist** or an **AI researcher**, Colab can make your work easier. Watch [Introduction to Colab](https://www.youtube.com/watch?v=inN8seMm7UI) to learn more, or just get started below!"
      ]
    },
    {
      "cell_type": "markdown",
      "metadata": {
        "id": "GJBs_flRovLc"
      },
      "source": [
        "## **Getting started**\n",
        "\n",
        "The document you are reading is not a static web page, but an interactive environment called a **Colab notebook** that lets you write and execute code.\n",
        "\n",
        "For example, here is a **code cell** with a short Python script that computes a value, stores it in a variable, and prints the result:"
      ]
    },
    {
      "cell_type": "code",
      "metadata": {
        "id": "gJr_9dXGpJ05",
        "outputId": "eaa8dd41-c4e7-42ab-c90b-3e4723bedc83",
        "colab": {
          "base_uri": "https://localhost:8080/",
          "height": 34
        }
      },
      "source": [
        "seconds_in_a_day = 24 * 60 * 40\n",
        "seconds_in_a_day"
      ],
      "execution_count": null,
      "outputs": [
        {
          "output_type": "execute_result",
          "data": {
            "text/plain": [
              "57600"
            ]
          },
          "metadata": {
            "tags": []
          },
          "execution_count": 1
        }
      ]
    },
    {
      "cell_type": "markdown",
      "metadata": {
        "id": "2fhs6GZ4qFMx"
      },
      "source": [
        "To execute the code in the above cell, select it with a click and then either press the play button to the left of the code, or use the keyboard shortcut \"Command/Ctrl+Enter\". To edit the code, just click the cell and start editing.\n",
        "\n",
        "Variables that you define in one cell can later be used in other cells:"
      ]
    },
    {
      "cell_type": "code",
      "metadata": {
        "id": "-gE-Ez1qtyIA"
      },
      "source": [
        "seconds_in_a_week = 7 * seconds_in_a_day\n",
        "seconds_in_a_week"
      ],
      "execution_count": null,
      "outputs": []
    },
    {
      "cell_type": "markdown",
      "metadata": {
        "id": "lSrWNr3MuFUS"
      },
      "source": [
        "Colab notebooks allow you to combine **executable code** and **rich text** in a single document, along with **images**, **HTML**, **LaTeX** and more. When you create your own Colab notebooks, they are stored in your Google Drive account. You can easily share your Colab notebooks with co-workers or friends, allowing them to comment on your notebooks or even edit them. To learn more, see [Overview of Colab](/notebooks/basic_features_overview.ipynb). To create a new Colab notebook you can use the File menu above, or use the following link: [create a new Colab notebook](http://colab.research.google.com#create=true).\n",
        "\n",
        "Colab notebooks are Jupyter notebooks that are hosted by Colab. To learn more about the Jupyter project, see [jupyter.org](https://www.jupyter.org)."
      ]
    },
    {
      "cell_type": "markdown",
      "metadata": {
        "id": "UdRyKR44dcNI"
      },
      "source": [
        "## Data science\n",
        "\n",
        "With Colab you can harness the full power of popular Python libraries to analyze and visualize data. The code cell below uses **numpy** to generate some random data, and uses **matplotlib** to visualize it. To edit the code, just click the cell and start editing."
      ]
    },
    {
      "cell_type": "code",
      "metadata": {
        "id": "C4HZx7Gndbrh",
        "outputId": "7722dfb3-896d-4dd5-ffe1-0129305a26d1",
        "colab": {
          "base_uri": "https://localhost:8080/",
          "height": 281
        }
      },
      "source": [
        "import numpy as np\n",
        "from matplotlib import pyplot as plt\n",
        "\n",
        "ys = 200 + np.random.randn(100)\n",
        "x = [x for x in range(len(ys))]\n",
        "\n",
        "plt.plot(x, ys, '-')\n",
        "plt.fill_between(x, ys, 195, where=(ys > 195), facecolor='g', alpha=0.6)\n",
        "\n",
        "plt.title(\"Sample Visualization\")\n",
        "plt.show()"
      ],
      "execution_count": null,
      "outputs": [
        {
          "output_type": "display_data",
          "data": {
            "image/png": "[encoded data removed]",
            "text/plain": [
              "<Figure size 432x288 with 1 Axes>"
            ]
          },
          "metadata": {
            "tags": [],
            "needs_background": "light"
          }
        }
      ]
    },
    {
      "cell_type": "markdown",
      "metadata": {
        "id": "4_kCnsPUqS6o"
      },
      "source": [
        "You can import your own data into Colab notebooks from your Google Drive account, including from spreadsheets, as well as from Github and many other sources. To learn more about importing data, and how Colab can be used for data science, see the links below under [Working with Data](#working-with-data)."
      ]
    },
    {
      "cell_type": "markdown",
      "metadata": {
        "id": "n8HZXi5XV82O"
      },
      "source": [
        "My analysis"
      ]
    },
    {
      "cell_type": "markdown",
      "metadata": {
        "id": "p5kD-80sWK-T"
      },
      "source": [
        "Set up to save data to google drive"
      ]
    },
    {
      "cell_type": "code",
      "metadata": {
        "id": "J-EuV4-NWZS0"
      },
      "source": [
        "# set up service for google drive \n",
        "from google.colab import auth\n",
        "auth.authenticate_user()\n",
        "from googleapiclient.discovery import build\n",
        "drive_service = build('drive', 'v3')"
      ],
      "execution_count": 2,
      "outputs": []
    },
    {
      "cell_type": "markdown",
      "metadata": {
        "id": "k_ubjnqaaYGW"
      },
      "source": [
        "Scrape data from web"
      ]
    },
    {
      "cell_type": "markdown",
      "metadata": {
        "id": "Df8AkRPoag57"
      },
      "source": []
    },
    {
      "cell_type": "code",
      "metadata": {
        "id": "bfzsReJxZxDr"
      },
      "source": [
        "import numpy as np\n",
        "from matplotlib import pyplot as plt\n",
        "\n",
        "# create colab folder in google drive\n",
        "#from google.colab import drive\n",
        "#drive.mount('/content/drive/')"
      ],
      "execution_count": 3,
      "outputs": []
    },
    {
      "cell_type": "code",
      "metadata": {
        "id": "nzz2fybxloaH",
        "outputId": "48e486d2-ded6-443a-b196-4f6f87321ab8",
        "colab": {
          "base_uri": "https://localhost:8080/"
        }
      },
      "source": [
        "# 4. Install PyDrive\n",
        "# Now create and open any Google Colab document. First we need to install PyDrive, which can be easily done with pip install command.\n",
        "!pip install PyDrive\n",
        "# downloaded = drive.CreateFile({'id':\"your_file_ID\"})   # replace the id with id of file you want to access\n",
        "# downloaded.GetContentFile('your_file_name.csv')        # replace the file name with your file"
      ],
      "execution_count": 4,
      "outputs": [
        {
          "output_type": "stream",
          "name": "stdout",
          "text": [
            "Looking in indexes: https://pypi.org/simple, https://us-python.pkg.dev/colab-wheels/public/simple/\n",
            "Requirement already satisfied: PyDrive in /usr/local/lib/python3.7/dist-packages (1.3.1)\n",
            "Requirement already satisfied: oauth2client>=4.0.0 in /usr/local/lib/python3.7/dist-packages (from PyDrive) (4.1.3)\n",
            "Requirement already satisfied: PyYAML>=3.0 in /usr/local/lib/python3.7/dist-packages (from PyDrive) (6.0)\n",
            "Requirement already satisfied: google-api-python-client>=1.2 in /usr/local/lib/python3.7/dist-packages (from PyDrive) (1.12.11)\n",
            "Requirement already satisfied: google-auth-httplib2>=0.0.3 in /usr/local/lib/python3.7/dist-packages (from google-api-python-client>=1.2->PyDrive) (0.0.4)\n",
            "Requirement already satisfied: six<2dev,>=1.13.0 in /usr/local/lib/python3.7/dist-packages (from google-api-python-client>=1.2->PyDrive) (1.15.0)\n",
            "Requirement already satisfied: uritemplate<4dev,>=3.0.0 in /usr/local/lib/python3.7/dist-packages (from google-api-python-client>=1.2->PyDrive) (3.0.1)\n",
            "Requirement already satisfied: google-api-core<3dev,>=1.21.0 in /usr/local/lib/python3.7/dist-packages (from google-api-python-client>=1.2->PyDrive) (1.31.6)\n",
            "Requirement already satisfied: httplib2<1dev,>=0.15.0 in /usr/local/lib/python3.7/dist-packages (from google-api-python-client>=1.2->PyDrive) (0.17.4)\n",
            "Requirement already satisfied: google-auth<3dev,>=1.16.0 in /usr/local/lib/python3.7/dist-packages (from google-api-python-client>=1.2->PyDrive) (1.35.0)\n",
            "Requirement already satisfied: packaging>=14.3 in /usr/local/lib/python3.7/dist-packages (from google-api-core<3dev,>=1.21.0->google-api-python-client>=1.2->PyDrive) (21.3)\n",
            "Requirement already satisfied: protobuf<4.0.0dev,>=3.12.0 in /usr/local/lib/python3.7/dist-packages (from google-api-core<3dev,>=1.21.0->google-api-python-client>=1.2->PyDrive) (3.17.3)\n",
            "Requirement already satisfied: googleapis-common-protos<2.0dev,>=1.6.0 in /usr/local/lib/python3.7/dist-packages (from google-api-core<3dev,>=1.21.0->google-api-python-client>=1.2->PyDrive) (1.56.4)\n",
            "Requirement already satisfied: setuptools>=40.3.0 in /usr/local/lib/python3.7/dist-packages (from google-api-core<3dev,>=1.21.0->google-api-python-client>=1.2->PyDrive) (57.4.0)\n",
            "Requirement already satisfied: pytz in /usr/local/lib/python3.7/dist-packages (from google-api-core<3dev,>=1.21.0->google-api-python-client>=1.2->PyDrive) (2022.6)\n",
            "Requirement already satisfied: requests<3.0.0dev,>=2.18.0 in /usr/local/lib/python3.7/dist-packages (from google-api-core<3dev,>=1.21.0->google-api-python-client>=1.2->PyDrive) (2.23.0)\n",
            "Requirement already satisfied: rsa<5,>=3.1.4 in /usr/local/lib/python3.7/dist-packages (from google-auth<3dev,>=1.16.0->google-api-python-client>=1.2->PyDrive) (4.9)\n",
            "Requirement already satisfied: cachetools<5.0,>=2.0.0 in /usr/local/lib/python3.7/dist-packages (from google-auth<3dev,>=1.16.0->google-api-python-client>=1.2->PyDrive) (4.2.4)\n",
            "Requirement already satisfied: pyasn1-modules>=0.2.1 in /usr/local/lib/python3.7/dist-packages (from google-auth<3dev,>=1.16.0->google-api-python-client>=1.2->PyDrive) (0.2.8)\n",
            "Requirement already satisfied: pyasn1>=0.1.7 in /usr/local/lib/python3.7/dist-packages (from oauth2client>=4.0.0->PyDrive) (0.4.8)\n",
            "Requirement already satisfied: pyparsing!=3.0.5,>=2.0.2 in /usr/local/lib/python3.7/dist-packages (from packaging>=14.3->google-api-core<3dev,>=1.21.0->google-api-python-client>=1.2->PyDrive) (3.0.9)\n",
            "Requirement already satisfied: idna<3,>=2.5 in /usr/local/lib/python3.7/dist-packages (from requests<3.0.0dev,>=2.18.0->google-api-core<3dev,>=1.21.0->google-api-python-client>=1.2->PyDrive) (2.10)\n",
            "Requirement already satisfied: certifi>=2017.4.17 in /usr/local/lib/python3.7/dist-packages (from requests<3.0.0dev,>=2.18.0->google-api-core<3dev,>=1.21.0->google-api-python-client>=1.2->PyDrive) (2022.9.24)\n",
            "Requirement already satisfied: urllib3!=1.25.0,!=1.25.1,<1.26,>=1.21.1 in /usr/local/lib/python3.7/dist-packages (from requests<3.0.0dev,>=2.18.0->google-api-core<3dev,>=1.21.0->google-api-python-client>=1.2->PyDrive) (1.24.3)\n",
            "Requirement already satisfied: chardet<4,>=3.0.2 in /usr/local/lib/python3.7/dist-packages (from requests<3.0.0dev,>=2.18.0->google-api-core<3dev,>=1.21.0->google-api-python-client>=1.2->PyDrive) (3.0.4)\n"
          ]
        }
      ]
    },
    {
      "cell_type": "code",
      "metadata": {
        "id": "_7xQnKzsonYi"
      },
      "source": [
        "# 5. Import modules\n",
        "# Some modules need to be imported in advance to create connection between Colab and Drive.\n",
        "\n",
        "from pydrive.auth import GoogleAuth\n",
        "from pydrive.drive import GoogleDrive\n",
        "from google.colab import auth\n",
        "from oauth2client.client import GoogleCredentials"
      ],
      "execution_count": 5,
      "outputs": []
    },
    {
      "cell_type": "code",
      "metadata": {
        "id": "pQShLLAdqLR3"
      },
      "source": [
        "# 6. Authenticate and create the PyDrive client\n",
        "auth.authenticate_user()\n",
        "gauth = GoogleAuth()\n",
        "gauth.credentials = GoogleCredentials.get_application_default()\n",
        "drive = GoogleDrive(gauth)"
      ],
      "execution_count": 6,
      "outputs": []
    },
    {
      "cell_type": "code",
      "metadata": {
        "id": "ZDfWsS_yrIsR"
      },
      "source": [
        "# 7. Get the file\n",
        "# Get the file using the Google Drive file ID that we created with JavaScript console in step 3.\n",
        "\n",
        "downloaded = drive.CreateFile({'id':\"1z1AG3Wi5nBJzcZCZlPG_ytYRY1V8Hj4R\"})   # replace the id with id of file you want to access\n",
        "downloaded.GetContentFile('Copy of Portfolio Optimization - ETF challenge.xlsx')        # replace the file name with your file"
      ],
      "execution_count": 7,
      "outputs": []
    },
    {
      "cell_type": "code",
      "metadata": {
        "id": "igYGUkHEsyEc"
      },
      "source": [
        "# 8. Read data\n",
        "# read data and save as DataFrame. As my file is in csv format, I have used read_csv() function, but you can replace it with read_excel() if it is in xlsx format.\n",
        " \n",
        "import pandas as pd\n",
        "data = pd.read_excel('Copy of Portfolio Optimization - ETF challenge.xlsx',sheet_name=1)"
      ],
      "execution_count": 8,
      "outputs": []
    },
    {
      "cell_type": "code",
      "metadata": {
        "id": "NIG3Q2PttSBY",
        "outputId": "29a8e8a8-8352-4d36-8ef7-06b2bf056a99",
        "colab": {
          "base_uri": "https://localhost:8080/",
          "height": 316
        }
      },
      "source": [
        "# 9. Check & Finish\n",
        "# check type of object created\n",
        "print(type(data))\n",
        "#Check if your file is uploaded well, and start your journey with data imported!\n",
        "data.head()\n",
        "# data.shape\n",
        "#example, summary of above\n",
        "# Install the PyDrive wrapper & import libraries.\n",
        "# This only needs to be done once per notebook.\n",
        "# !pip install -U -q PyDrive\n",
        "# from pydrive.auth import GoogleAuth\n",
        "# from pydrive.drive import GoogleDrive\n",
        "# from google.colab import auth\n",
        "# from oauth2client.client import GoogleCredentials\n",
        "\n",
        "# auth.authenticate_user()\n",
        "# gauth = GoogleAuth()\n",
        "# gauth.credentials = GoogleCredentials.get_application_default()\n",
        "# drive = GoogleDrive(gauth)\n",
        "\n",
        "# file_id = '1Sv4ib5i7CKWhAHZkKg-uitIkS3xwxtXM'\n",
        "# downloaded = drive.CreateFile({'id': file_id})"
      ],
      "execution_count": 9,
      "outputs": [
        {
          "output_type": "stream",
          "name": "stdout",
          "text": [
            "<class 'pandas.core.frame.DataFrame'>\n"
          ]
        },
        {
          "output_type": "execute_result",
          "data": {
            "text/plain": [
              "  Unnamed: 0         1         2         3         4         5         6  \\\n",
              "0        NaT       NaN       NaN       NaN       NaN       NaN       NaN   \n",
              "1        NaT       SPY       xlp       DRR       VOO       IVV       rez   \n",
              "2 2010-10-01   0.03749  0.031424  0.137959  0.037059  0.037711 -0.023438   \n",
              "3 2010-11-01         0 -0.015765  0.137959 -0.001109 -0.000673 -0.023438   \n",
              "4 2010-12-01  0.064712  0.043056 -0.060779   0.06692  0.065605  0.045196   \n",
              "\n",
              "          7         8         9  ... Unnamed: 16 Unnamed: 17 Unnamed: 18  \\\n",
              "0       NaN       NaN       NaN  ...         NaN         NaN         NaN   \n",
              "1       EUO       IWD       VPU  ...         DOD         DPK         NaN   \n",
              "2  0.133399  0.030386  0.013309  ...    0.023855    0.122274         NaN   \n",
              "3  0.133399 -0.006103 -0.024359  ...   -0.035357    0.122274         NaN   \n",
              "4 -0.062506  0.076278  0.031453  ...    0.065903   -0.254284         NaN   \n",
              "\n",
              "  Unnamed: 19 Unnamed: 20 Unnamed: 21 Unnamed: 22  Unnamed: 23    Unnamed: 24  \\\n",
              "0         NaN         NaN         NaN         NaN          NaN            NaN   \n",
              "1         NaN         NaN         SPY       Tbill  DFM Squared  Excess return   \n",
              "2         NaN         NaN         NaN         NaN          NaN            NaN   \n",
              "3         NaN         NaN         NaN         NaN          NaN            NaN   \n",
              "4         NaN         NaN         NaN         NaN          NaN            NaN   \n",
              "\n",
              "                   Unnamed: 25  \n",
              "0                          NaN  \n",
              "1  Excess ret dev from mean sq  \n",
              "2                          NaN  \n",
              "3                          NaN  \n",
              "4                          NaN  \n",
              "\n",
              "[5 rows x 26 columns]"
            ],
            "text/html": [
              "\n",
              "  <div id=\"df-de4cac40-f672-4530-a797-572458c183f8\">\n",
              "    <div class=\"colab-df-container\">\n",
              "      <div>\n",
              "<style scoped>\n",
              "    .dataframe tbody tr th:only-of-type {\n",
              "        vertical-align: middle;\n",
              "    }\n",
              "\n",
              "    .dataframe tbody tr th {\n",
              "        vertical-align: top;\n",
              "    }\n",
              "\n",
              "    .dataframe thead th {\n",
              "        text-align: right;\n",
              "    }\n",
              "</style>\n",
              "<table border=\"1\" class=\"dataframe\">\n",
              "  <thead>\n",
              "    <tr style=\"text-align: right;\">\n",
              "      <th></th>\n",
              "      <th>Unnamed: 0</th>\n",
              "      <th>1</th>\n",
              "      <th>2</th>\n",
              "      <th>3</th>\n",
              "      <th>4</th>\n",
              "      <th>5</th>\n",
              "      <th>6</th>\n",
              "      <th>7</th>\n",
              "      <th>8</th>\n",
              "      <th>9</th>\n",
              "      <th>...</th>\n",
              "      <th>Unnamed: 16</th>\n",
              "      <th>Unnamed: 17</th>\n",
              "      <th>Unnamed: 18</th>\n",
              "      <th>Unnamed: 19</th>\n",
              "      <th>Unnamed: 20</th>\n",
              "      <th>Unnamed: 21</th>\n",
              "      <th>Unnamed: 22</th>\n",
              "      <th>Unnamed: 23</th>\n",
              "      <th>Unnamed: 24</th>\n",
              "      <th>Unnamed: 25</th>\n",
              "    </tr>\n",
              "  </thead>\n",
              "  <tbody>\n",
              "    <tr>\n",
              "      <th>0</th>\n",
              "      <td>NaT</td>\n",
              "      <td>NaN</td>\n",
              "      <td>NaN</td>\n",
              "      <td>NaN</td>\n",
              "      <td>NaN</td>\n",
              "      <td>NaN</td>\n",
              "      <td>NaN</td>\n",
              "      <td>NaN</td>\n",
              "      <td>NaN</td>\n",
              "      <td>NaN</td>\n",
              "      <td>...</td>\n",
              "      <td>NaN</td>\n",
              "      <td>NaN</td>\n",
              "      <td>NaN</td>\n",
              "      <td>NaN</td>\n",
              "      <td>NaN</td>\n",
              "      <td>NaN</td>\n",
              "      <td>NaN</td>\n",
              "      <td>NaN</td>\n",
              "      <td>NaN</td>\n",
              "      <td>NaN</td>\n",
              "    </tr>\n",
              "    <tr>\n",
              "      <th>1</th>\n",
              "      <td>NaT</td>\n",
              "      <td>SPY</td>\n",
              "      <td>xlp</td>\n",
              "      <td>DRR</td>\n",
              "      <td>VOO</td>\n",
              "      <td>IVV</td>\n",
              "      <td>rez</td>\n",
              "      <td>EUO</td>\n",
              "      <td>IWD</td>\n",
              "      <td>VPU</td>\n",
              "      <td>...</td>\n",
              "      <td>DOD</td>\n",
              "      <td>DPK</td>\n",
              "      <td>NaN</td>\n",
              "      <td>NaN</td>\n",
              "      <td>NaN</td>\n",
              "      <td>SPY</td>\n",
              "      <td>Tbill</td>\n",
              "      <td>DFM Squared</td>\n",
              "      <td>Excess return</td>\n",
              "      <td>Excess ret dev from mean sq</td>\n",
              "    </tr>\n",
              "    <tr>\n",
              "      <th>2</th>\n",
              "      <td>2010-10-01</td>\n",
              "      <td>0.03749</td>\n",
              "      <td>0.031424</td>\n",
              "      <td>0.137959</td>\n",
              "      <td>0.037059</td>\n",
              "      <td>0.037711</td>\n",
              "      <td>-0.023438</td>\n",
              "      <td>0.133399</td>\n",
              "      <td>0.030386</td>\n",
              "      <td>0.013309</td>\n",
              "      <td>...</td>\n",
              "      <td>0.023855</td>\n",
              "      <td>0.122274</td>\n",
              "      <td>NaN</td>\n",
              "      <td>NaN</td>\n",
              "      <td>NaN</td>\n",
              "      <td>NaN</td>\n",
              "      <td>NaN</td>\n",
              "      <td>NaN</td>\n",
              "      <td>NaN</td>\n",
              "      <td>NaN</td>\n",
              "    </tr>\n",
              "    <tr>\n",
              "      <th>3</th>\n",
              "      <td>2010-11-01</td>\n",
              "      <td>0</td>\n",
              "      <td>-0.015765</td>\n",
              "      <td>0.137959</td>\n",
              "      <td>-0.001109</td>\n",
              "      <td>-0.000673</td>\n",
              "      <td>-0.023438</td>\n",
              "      <td>0.133399</td>\n",
              "      <td>-0.006103</td>\n",
              "      <td>-0.024359</td>\n",
              "      <td>...</td>\n",
              "      <td>-0.035357</td>\n",
              "      <td>0.122274</td>\n",
              "      <td>NaN</td>\n",
              "      <td>NaN</td>\n",
              "      <td>NaN</td>\n",
              "      <td>NaN</td>\n",
              "      <td>NaN</td>\n",
              "      <td>NaN</td>\n",
              "      <td>NaN</td>\n",
              "      <td>NaN</td>\n",
              "    </tr>\n",
              "    <tr>\n",
              "      <th>4</th>\n",
              "      <td>2010-12-01</td>\n",
              "      <td>0.064712</td>\n",
              "      <td>0.043056</td>\n",
              "      <td>-0.060779</td>\n",
              "      <td>0.06692</td>\n",
              "      <td>0.065605</td>\n",
              "      <td>0.045196</td>\n",
              "      <td>-0.062506</td>\n",
              "      <td>0.076278</td>\n",
              "      <td>0.031453</td>\n",
              "      <td>...</td>\n",
              "      <td>0.065903</td>\n",
              "      <td>-0.254284</td>\n",
              "      <td>NaN</td>\n",
              "      <td>NaN</td>\n",
              "      <td>NaN</td>\n",
              "      <td>NaN</td>\n",
              "      <td>NaN</td>\n",
              "      <td>NaN</td>\n",
              "      <td>NaN</td>\n",
              "      <td>NaN</td>\n",
              "    </tr>\n",
              "  </tbody>\n",
              "</table>\n",
              "<p>5 rows × 26 columns</p>\n",
              "</div>\n",
              "      <button class=\"colab-df-convert\" onclick=\"convertToInteractive('df-de4cac40-f672-4530-a797-572458c183f8')\"\n",
              "              title=\"Convert this dataframe to an interactive table.\"\n",
              "              style=\"display:none;\">\n",
              "        \n",
              "  <svg xmlns=\"http://www.w3.org/2000/svg\" height=\"24px\"viewBox=\"0 0 24 24\"\n",
              "       width=\"24px\">\n",
              "    <path d=\"M0 0h24v24H0V0z\" fill=\"none\"/>\n",
              "    <path d=\"M18.56 5.44l.94 2.06.94-2.06 2.06-.94-2.06-.94-.94-2.06-.94 2.06-2.06.94zm-11 1L8.5 8.5l.94-2.06 2.06-.94-2.06-.94L8.5 2.5l-.94 2.06-2.06.94zm10 10l.94 2.06.94-2.06 2.06-.94-2.06-.94-.94-2.06-.94 2.06-2.06.94z\"/><path d=\"M17.41 7.96l-1.37-1.37c-.4-.4-.92-.59-1.43-.59-.52 0-1.04.2-1.43.59L10.3 9.45l-7.72 7.72c-.78.78-.78 2.05 0 2.83L4 21.41c.39.39.9.59 1.41.59.51 0 1.02-.2 1.41-.59l7.78-7.78 2.81-2.81c.8-.78.8-2.07 0-2.86zM5.41 20L4 18.59l7.72-7.72 1.47 1.35L5.41 20z\"/>\n",
              "  </svg>\n",
              "      </button>\n",
              "      \n",
              "  <style>\n",
              "    .colab-df-container {\n",
              "      display:flex;\n",
              "      flex-wrap:wrap;\n",
              "      gap: 12px;\n",
              "    }\n",
              "\n",
              "    .colab-df-convert {\n",
              "      background-color: #E8F0FE;\n",
              "      border: none;\n",
              "      border-radius: 50%;\n",
              "      cursor: pointer;\n",
              "      display: none;\n",
              "      fill: #1967D2;\n",
              "      height: 32px;\n",
              "      padding: 0 0 0 0;\n",
              "      width: 32px;\n",
              "    }\n",
              "\n",
              "    .colab-df-convert:hover {\n",
              "      background-color: #E2EBFA;\n",
              "      box-shadow: 0px 1px 2px rgba(60, 64, 67, 0.3), 0px 1px 3px 1px rgba(60, 64, 67, 0.15);\n",
              "      fill: #174EA6;\n",
              "    }\n",
              "\n",
              "    [theme=dark] .colab-df-convert {\n",
              "      background-color: #3B4455;\n",
              "      fill: #D2E3FC;\n",
              "    }\n",
              "\n",
              "    [theme=dark] .colab-df-convert:hover {\n",
              "      background-color: #434B5C;\n",
              "      box-shadow: 0px 1px 3px 1px rgba(0, 0, 0, 0.15);\n",
              "      filter: drop-shadow(0px 1px 2px rgba(0, 0, 0, 0.3));\n",
              "      fill: #FFFFFF;\n",
              "    }\n",
              "  </style>\n",
              "\n",
              "      <script>\n",
              "        const buttonEl =\n",
              "          document.querySelector('#df-de4cac40-f672-4530-a797-572458c183f8 button.colab-df-convert');\n",
              "        buttonEl.style.display =\n",
              "          google.colab.kernel.accessAllowed ? 'block' : 'none';\n",
              "\n",
              "        async function convertToInteractive(key) {\n",
              "          const element = document.querySelector('#df-de4cac40-f672-4530-a797-572458c183f8');\n",
              "          const dataTable =\n",
              "            await google.colab.kernel.invokeFunction('convertToInteractive',\n",
              "                                                     [key], {});\n",
              "          if (!dataTable) return;\n",
              "\n",
              "          const docLinkHtml = 'Like what you see? Visit the ' +\n",
              "            '<a target=\"_blank\" href=https://colab.research.google.com/notebooks/data_table.ipynb>data table notebook</a>'\n",
              "            + ' to learn more about interactive tables.';\n",
              "          element.innerHTML = '';\n",
              "          dataTable['output_type'] = 'display_data';\n",
              "          await google.colab.output.renderOutput(dataTable, element);\n",
              "          const docLink = document.createElement('div');\n",
              "          docLink.innerHTML = docLinkHtml;\n",
              "          element.appendChild(docLink);\n",
              "        }\n",
              "      </script>\n",
              "    </div>\n",
              "  </div>\n",
              "  "
            ]
          },
          "metadata": {},
          "execution_count": 9
        },
        {
          "output_type": "stream",
          "name": "stdout",
          "text": [
            "Warning: Total number of columns (26) exceeds max_columns (20) limiting to first (20) columns.\n"
          ]
        }
      ]
    },
    {
      "cell_type": "code",
      "metadata": {
        "id": "t5JvRMVK4whM",
        "outputId": "6f733998-e102-46a7-d923-af03067b2e74",
        "colab": {
          "base_uri": "https://localhost:8080/",
          "height": 299
        }
      },
      "source": [
        "# we need to reset the index to have nice linear indices from 0, 1 to 150\n",
        "# reset_index() adds a new column called \"index\" which we drop (explained later)\n",
        "# iris = pd.concat([setosa_data, versi_data, virgi_data]).reset_index().drop(\"index\", axis=1)\n",
        "# data_all = pd.concat([data, data2]).reset_index().drop(\"index\", axis=1)\n",
        "data_all = pd.concat([data]).reset_index().drop(\"index\", axis=1)\n",
        "# data_all.describe()\n",
        "# check type of object created\n",
        "type(data_all)\n",
        "data_all.head()"
      ],
      "execution_count": 10,
      "outputs": [
        {
          "output_type": "execute_result",
          "data": {
            "text/plain": [
              "  Unnamed: 0         1         2         3         4         5         6  \\\n",
              "0        NaT       NaN       NaN       NaN       NaN       NaN       NaN   \n",
              "1        NaT       SPY       xlp       DRR       VOO       IVV       rez   \n",
              "2 2010-10-01   0.03749  0.031424  0.137959  0.037059  0.037711 -0.023438   \n",
              "3 2010-11-01         0 -0.015765  0.137959 -0.001109 -0.000673 -0.023438   \n",
              "4 2010-12-01  0.064712  0.043056 -0.060779   0.06692  0.065605  0.045196   \n",
              "\n",
              "          7         8         9  ... Unnamed: 16 Unnamed: 17 Unnamed: 18  \\\n",
              "0       NaN       NaN       NaN  ...         NaN         NaN         NaN   \n",
              "1       EUO       IWD       VPU  ...         DOD         DPK         NaN   \n",
              "2  0.133399  0.030386  0.013309  ...    0.023855    0.122274         NaN   \n",
              "3  0.133399 -0.006103 -0.024359  ...   -0.035357    0.122274         NaN   \n",
              "4 -0.062506  0.076278  0.031453  ...    0.065903   -0.254284         NaN   \n",
              "\n",
              "  Unnamed: 19 Unnamed: 20 Unnamed: 21 Unnamed: 22  Unnamed: 23    Unnamed: 24  \\\n",
              "0         NaN         NaN         NaN         NaN          NaN            NaN   \n",
              "1         NaN         NaN         SPY       Tbill  DFM Squared  Excess return   \n",
              "2         NaN         NaN         NaN         NaN          NaN            NaN   \n",
              "3         NaN         NaN         NaN         NaN          NaN            NaN   \n",
              "4         NaN         NaN         NaN         NaN          NaN            NaN   \n",
              "\n",
              "                   Unnamed: 25  \n",
              "0                          NaN  \n",
              "1  Excess ret dev from mean sq  \n",
              "2                          NaN  \n",
              "3                          NaN  \n",
              "4                          NaN  \n",
              "\n",
              "[5 rows x 26 columns]"
            ],
            "text/html": [
              "\n",
              "  <div id=\"df-41403d7f-a8a0-4732-a3f5-822d4d3ae91a\">\n",
              "    <div class=\"colab-df-container\">\n",
              "      <div>\n",
              "<style scoped>\n",
              "    .dataframe tbody tr th:only-of-type {\n",
              "        vertical-align: middle;\n",
              "    }\n",
              "\n",
              "    .dataframe tbody tr th {\n",
              "        vertical-align: top;\n",
              "    }\n",
              "\n",
              "    .dataframe thead th {\n",
              "        text-align: right;\n",
              "    }\n",
              "</style>\n",
              "<table border=\"1\" class=\"dataframe\">\n",
              "  <thead>\n",
              "    <tr style=\"text-align: right;\">\n",
              "      <th></th>\n",
              "      <th>Unnamed: 0</th>\n",
              "      <th>1</th>\n",
              "      <th>2</th>\n",
              "      <th>3</th>\n",
              "      <th>4</th>\n",
              "      <th>5</th>\n",
              "      <th>6</th>\n",
              "      <th>7</th>\n",
              "      <th>8</th>\n",
              "      <th>9</th>\n",
              "      <th>...</th>\n",
              "      <th>Unnamed: 16</th>\n",
              "      <th>Unnamed: 17</th>\n",
              "      <th>Unnamed: 18</th>\n",
              "      <th>Unnamed: 19</th>\n",
              "      <th>Unnamed: 20</th>\n",
              "      <th>Unnamed: 21</th>\n",
              "      <th>Unnamed: 22</th>\n",
              "      <th>Unnamed: 23</th>\n",
              "      <th>Unnamed: 24</th>\n",
              "      <th>Unnamed: 25</th>\n",
              "    </tr>\n",
              "  </thead>\n",
              "  <tbody>\n",
              "    <tr>\n",
              "      <th>0</th>\n",
              "      <td>NaT</td>\n",
              "      <td>NaN</td>\n",
              "      <td>NaN</td>\n",
              "      <td>NaN</td>\n",
              "      <td>NaN</td>\n",
              "      <td>NaN</td>\n",
              "      <td>NaN</td>\n",
              "      <td>NaN</td>\n",
              "      <td>NaN</td>\n",
              "      <td>NaN</td>\n",
              "      <td>...</td>\n",
              "      <td>NaN</td>\n",
              "      <td>NaN</td>\n",
              "      <td>NaN</td>\n",
              "      <td>NaN</td>\n",
              "      <td>NaN</td>\n",
              "      <td>NaN</td>\n",
              "      <td>NaN</td>\n",
              "      <td>NaN</td>\n",
              "      <td>NaN</td>\n",
              "      <td>NaN</td>\n",
              "    </tr>\n",
              "    <tr>\n",
              "      <th>1</th>\n",
              "      <td>NaT</td>\n",
              "      <td>SPY</td>\n",
              "      <td>xlp</td>\n",
              "      <td>DRR</td>\n",
              "      <td>VOO</td>\n",
              "      <td>IVV</td>\n",
              "      <td>rez</td>\n",
              "      <td>EUO</td>\n",
              "      <td>IWD</td>\n",
              "      <td>VPU</td>\n",
              "      <td>...</td>\n",
              "      <td>DOD</td>\n",
              "      <td>DPK</td>\n",
              "      <td>NaN</td>\n",
              "      <td>NaN</td>\n",
              "      <td>NaN</td>\n",
              "      <td>SPY</td>\n",
              "      <td>Tbill</td>\n",
              "      <td>DFM Squared</td>\n",
              "      <td>Excess return</td>\n",
              "      <td>Excess ret dev from mean sq</td>\n",
              "    </tr>\n",
              "    <tr>\n",
              "      <th>2</th>\n",
              "      <td>2010-10-01</td>\n",
              "      <td>0.03749</td>\n",
              "      <td>0.031424</td>\n",
              "      <td>0.137959</td>\n",
              "      <td>0.037059</td>\n",
              "      <td>0.037711</td>\n",
              "      <td>-0.023438</td>\n",
              "      <td>0.133399</td>\n",
              "      <td>0.030386</td>\n",
              "      <td>0.013309</td>\n",
              "      <td>...</td>\n",
              "      <td>0.023855</td>\n",
              "      <td>0.122274</td>\n",
              "      <td>NaN</td>\n",
              "      <td>NaN</td>\n",
              "      <td>NaN</td>\n",
              "      <td>NaN</td>\n",
              "      <td>NaN</td>\n",
              "      <td>NaN</td>\n",
              "      <td>NaN</td>\n",
              "      <td>NaN</td>\n",
              "    </tr>\n",
              "    <tr>\n",
              "      <th>3</th>\n",
              "      <td>2010-11-01</td>\n",
              "      <td>0</td>\n",
              "      <td>-0.015765</td>\n",
              "      <td>0.137959</td>\n",
              "      <td>-0.001109</td>\n",
              "      <td>-0.000673</td>\n",
              "      <td>-0.023438</td>\n",
              "      <td>0.133399</td>\n",
              "      <td>-0.006103</td>\n",
              "      <td>-0.024359</td>\n",
              "      <td>...</td>\n",
              "      <td>-0.035357</td>\n",
              "      <td>0.122274</td>\n",
              "      <td>NaN</td>\n",
              "      <td>NaN</td>\n",
              "      <td>NaN</td>\n",
              "      <td>NaN</td>\n",
              "      <td>NaN</td>\n",
              "      <td>NaN</td>\n",
              "      <td>NaN</td>\n",
              "      <td>NaN</td>\n",
              "    </tr>\n",
              "    <tr>\n",
              "      <th>4</th>\n",
              "      <td>2010-12-01</td>\n",
              "      <td>0.064712</td>\n",
              "      <td>0.043056</td>\n",
              "      <td>-0.060779</td>\n",
              "      <td>0.06692</td>\n",
              "      <td>0.065605</td>\n",
              "      <td>0.045196</td>\n",
              "      <td>-0.062506</td>\n",
              "      <td>0.076278</td>\n",
              "      <td>0.031453</td>\n",
              "      <td>...</td>\n",
              "      <td>0.065903</td>\n",
              "      <td>-0.254284</td>\n",
              "      <td>NaN</td>\n",
              "      <td>NaN</td>\n",
              "      <td>NaN</td>\n",
              "      <td>NaN</td>\n",
              "      <td>NaN</td>\n",
              "      <td>NaN</td>\n",
              "      <td>NaN</td>\n",
              "      <td>NaN</td>\n",
              "    </tr>\n",
              "  </tbody>\n",
              "</table>\n",
              "<p>5 rows × 26 columns</p>\n",
              "</div>\n",
              "      <button class=\"colab-df-convert\" onclick=\"convertToInteractive('df-41403d7f-a8a0-4732-a3f5-822d4d3ae91a')\"\n",
              "              title=\"Convert this dataframe to an interactive table.\"\n",
              "              style=\"display:none;\">\n",
              "        \n",
              "  <svg xmlns=\"http://www.w3.org/2000/svg\" height=\"24px\"viewBox=\"0 0 24 24\"\n",
              "       width=\"24px\">\n",
              "    <path d=\"M0 0h24v24H0V0z\" fill=\"none\"/>\n",
              "    <path d=\"M18.56 5.44l.94 2.06.94-2.06 2.06-.94-2.06-.94-.94-2.06-.94 2.06-2.06.94zm-11 1L8.5 8.5l.94-2.06 2.06-.94-2.06-.94L8.5 2.5l-.94 2.06-2.06.94zm10 10l.94 2.06.94-2.06 2.06-.94-2.06-.94-.94-2.06-.94 2.06-2.06.94z\"/><path d=\"M17.41 7.96l-1.37-1.37c-.4-.4-.92-.59-1.43-.59-.52 0-1.04.2-1.43.59L10.3 9.45l-7.72 7.72c-.78.78-.78 2.05 0 2.83L4 21.41c.39.39.9.59 1.41.59.51 0 1.02-.2 1.41-.59l7.78-7.78 2.81-2.81c.8-.78.8-2.07 0-2.86zM5.41 20L4 18.59l7.72-7.72 1.47 1.35L5.41 20z\"/>\n",
              "  </svg>\n",
              "      </button>\n",
              "      \n",
              "  <style>\n",
              "    .colab-df-container {\n",
              "      display:flex;\n",
              "      flex-wrap:wrap;\n",
              "      gap: 12px;\n",
              "    }\n",
              "\n",
              "    .colab-df-convert {\n",
              "      background-color: #E8F0FE;\n",
              "      border: none;\n",
              "      border-radius: 50%;\n",
              "      cursor: pointer;\n",
              "      display: none;\n",
              "      fill: #1967D2;\n",
              "      height: 32px;\n",
              "      padding: 0 0 0 0;\n",
              "      width: 32px;\n",
              "    }\n",
              "\n",
              "    .colab-df-convert:hover {\n",
              "      background-color: #E2EBFA;\n",
              "      box-shadow: 0px 1px 2px rgba(60, 64, 67, 0.3), 0px 1px 3px 1px rgba(60, 64, 67, 0.15);\n",
              "      fill: #174EA6;\n",
              "    }\n",
              "\n",
              "    [theme=dark] .colab-df-convert {\n",
              "      background-color: #3B4455;\n",
              "      fill: #D2E3FC;\n",
              "    }\n",
              "\n",
              "    [theme=dark] .colab-df-convert:hover {\n",
              "      background-color: #434B5C;\n",
              "      box-shadow: 0px 1px 3px 1px rgba(0, 0, 0, 0.15);\n",
              "      filter: drop-shadow(0px 1px 2px rgba(0, 0, 0, 0.3));\n",
              "      fill: #FFFFFF;\n",
              "    }\n",
              "  </style>\n",
              "\n",
              "      <script>\n",
              "        const buttonEl =\n",
              "          document.querySelector('#df-41403d7f-a8a0-4732-a3f5-822d4d3ae91a button.colab-df-convert');\n",
              "        buttonEl.style.display =\n",
              "          google.colab.kernel.accessAllowed ? 'block' : 'none';\n",
              "\n",
              "        async function convertToInteractive(key) {\n",
              "          const element = document.querySelector('#df-41403d7f-a8a0-4732-a3f5-822d4d3ae91a');\n",
              "          const dataTable =\n",
              "            await google.colab.kernel.invokeFunction('convertToInteractive',\n",
              "                                                     [key], {});\n",
              "          if (!dataTable) return;\n",
              "\n",
              "          const docLinkHtml = 'Like what you see? Visit the ' +\n",
              "            '<a target=\"_blank\" href=https://colab.research.google.com/notebooks/data_table.ipynb>data table notebook</a>'\n",
              "            + ' to learn more about interactive tables.';\n",
              "          element.innerHTML = '';\n",
              "          dataTable['output_type'] = 'display_data';\n",
              "          await google.colab.output.renderOutput(dataTable, element);\n",
              "          const docLink = document.createElement('div');\n",
              "          docLink.innerHTML = docLinkHtml;\n",
              "          element.appendChild(docLink);\n",
              "        }\n",
              "      </script>\n",
              "    </div>\n",
              "  </div>\n",
              "  "
            ]
          },
          "metadata": {},
          "execution_count": 10
        },
        {
          "output_type": "stream",
          "name": "stdout",
          "text": [
            "Warning: Total number of columns (26) exceeds max_columns (20) limiting to first (20) columns.\n"
          ]
        }
      ]
    },
    {
      "cell_type": "code",
      "metadata": {
        "id": "mw221VN4Bk-y",
        "outputId": "0b7d691f-a2e8-467d-b941-097a859ed086",
        "colab": {
          "base_uri": "https://localhost:8080/"
        }
      },
      "source": [
        "# create pandas's excel version of the file\n",
        "df_stocksworkbook = pd.ExcelFile('Copy of Portfolio Optimization - ETF challenge.xlsx')\n",
        "# df_stocksworkbook = data.copy(True)\n",
        "\n",
        "# check type of object created and print all sheetnames in the workbook\n",
        "print(type(df_stocksworkbook), df_stocksworkbook.sheet_names) #this returns the all the sheets in the excel file"
      ],
      "execution_count": 11,
      "outputs": [
        {
          "output_type": "stream",
          "name": "stdout",
          "text": [
            "<class 'pandas.io.excel._base.ExcelFile'> ['Example from Kwan (2001)', 'Returns ALL ', 'Returns ALL  (2)', 'Whole Period Model (Naive)', 'Whole Period Model (Optimized)', 'Template 1 Return statistics']\n"
          ]
        }
      ]
    },
    {
      "cell_type": "code",
      "metadata": {
        "id": "hsmf2abwJTON",
        "outputId": "0b298137-7fe7-4d08-dd9d-010154888aba",
        "colab": {
          "base_uri": "https://localhost:8080/",
          "height": 2583
        }
      },
      "source": [
        "df = df_stocksworkbook.parse(\"Returns ALL \")\n",
        "df.info\n",
        "df"
      ],
      "execution_count": 12,
      "outputs": [
        {
          "output_type": "execute_result",
          "data": {
            "text/plain": [
              "   Unnamed: 0         1         2         3         4         5         6  \\\n",
              "0         NaT       NaN       NaN       NaN       NaN       NaN       NaN   \n",
              "1         NaT       SPY       xlp       DRR       VOO       IVV       rez   \n",
              "2  2010-10-01   0.03749  0.031424  0.137959  0.037059  0.037711 -0.023438   \n",
              "3  2010-11-01         0 -0.015765  0.137959 -0.001109 -0.000673 -0.023438   \n",
              "4  2010-12-01  0.064712  0.043056 -0.060779   0.06692  0.065605  0.045196   \n",
              "..        ...       ...       ...       ...       ...       ...       ...   \n",
              "60 2015-08-03 -0.062887 -0.061482 -0.029661 -0.063326 -0.063406 -0.050767   \n",
              "61 2015-09-01 -0.025847  0.003891  0.001759 -0.024965 -0.025247  0.047685   \n",
              "62 2015-10-01  0.081635  0.055438  0.034036  0.081132  0.081335  0.016726   \n",
              "63 2015-11-02  0.003648 -0.009265  0.081831  0.004242  0.003915  0.020521   \n",
              "64 2015-12-01 -0.017434  0.028759 -0.067831 -0.017535  -0.01748  0.038173   \n",
              "\n",
              "           7         8         9  ... Unnamed: 16 Unnamed: 17 Unnamed: 18  \\\n",
              "0        NaN       NaN       NaN  ...         NaN         NaN         NaN   \n",
              "1        EUO       IWD       VPU  ...         DOD         DPK         NaN   \n",
              "2   0.133399  0.030386  0.013309  ...    0.023855    0.122274         NaN   \n",
              "3   0.133399 -0.006103 -0.024359  ...   -0.035357    0.122274         NaN   \n",
              "4  -0.062506  0.076278  0.031453  ...    0.065903   -0.254284         NaN   \n",
              "..       ...       ...       ...  ...         ...         ...         ...   \n",
              "60 -0.047925 -0.061518 -0.036618  ...   -0.053554    0.207567         NaN   \n",
              "61  0.004938  -0.03122  0.026808  ...   -0.026104    0.103129         NaN   \n",
              "62  0.029527   0.07246  0.019271  ...    0.099913    -0.20275         NaN   \n",
              "63  0.077802  0.004477 -0.021532  ...    0.001939    0.016512         NaN   \n",
              "64 -0.060417 -0.022292  0.021401  ...     0.00129    0.053151         NaN   \n",
              "\n",
              "   Unnamed: 19 Unnamed: 20 Unnamed: 21 Unnamed: 22  Unnamed: 23  \\\n",
              "0          NaN         NaN         NaN         NaN          NaN   \n",
              "1          NaN         NaN         SPY       Tbill  DFM Squared   \n",
              "2          NaN         NaN         NaN         NaN          NaN   \n",
              "3          NaN         NaN         NaN         NaN          NaN   \n",
              "4          NaN         NaN         NaN         NaN          NaN   \n",
              "..         ...         ...         ...         ...          ...   \n",
              "60         NaN         NaN         NaN         NaN          NaN   \n",
              "61         NaN         NaN         NaN         NaN          NaN   \n",
              "62         NaN         NaN         NaN         NaN          NaN   \n",
              "63         NaN         NaN         NaN         NaN          NaN   \n",
              "64         NaN         NaN         NaN         NaN          NaN   \n",
              "\n",
              "      Unnamed: 24                  Unnamed: 25  \n",
              "0             NaN                          NaN  \n",
              "1   Excess return  Excess ret dev from mean sq  \n",
              "2             NaN                          NaN  \n",
              "3             NaN                          NaN  \n",
              "4             NaN                          NaN  \n",
              "..            ...                          ...  \n",
              "60            NaN                          NaN  \n",
              "61            NaN                          NaN  \n",
              "62            NaN                          NaN  \n",
              "63            NaN                          NaN  \n",
              "64            NaN                          NaN  \n",
              "\n",
              "[65 rows x 26 columns]"
            ],
            "text/html": [
              "\n",
              "  <div id=\"df-08dccf7e-81c2-4471-9454-b3617a46541d\">\n",
              "    <div class=\"colab-df-container\">\n",
              "      <div>\n",
              "<style scoped>\n",
              "    .dataframe tbody tr th:only-of-type {\n",
              "        vertical-align: middle;\n",
              "    }\n",
              "\n",
              "    .dataframe tbody tr th {\n",
              "        vertical-align: top;\n",
              "    }\n",
              "\n",
              "    .dataframe thead th {\n",
              "        text-align: right;\n",
              "    }\n",
              "</style>\n",
              "<table border=\"1\" class=\"dataframe\">\n",
              "  <thead>\n",
              "    <tr style=\"text-align: right;\">\n",
              "      <th></th>\n",
              "      <th>Unnamed: 0</th>\n",
              "      <th>1</th>\n",
              "      <th>2</th>\n",
              "      <th>3</th>\n",
              "      <th>4</th>\n",
              "      <th>5</th>\n",
              "      <th>6</th>\n",
              "      <th>7</th>\n",
              "      <th>8</th>\n",
              "      <th>9</th>\n",
              "      <th>...</th>\n",
              "      <th>Unnamed: 16</th>\n",
              "      <th>Unnamed: 17</th>\n",
              "      <th>Unnamed: 18</th>\n",
              "      <th>Unnamed: 19</th>\n",
              "      <th>Unnamed: 20</th>\n",
              "      <th>Unnamed: 21</th>\n",
              "      <th>Unnamed: 22</th>\n",
              "      <th>Unnamed: 23</th>\n",
              "      <th>Unnamed: 24</th>\n",
              "      <th>Unnamed: 25</th>\n",
              "    </tr>\n",
              "  </thead>\n",
              "  <tbody>\n",
              "    <tr>\n",
              "      <th>0</th>\n",
              "      <td>NaT</td>\n",
              "      <td>NaN</td>\n",
              "      <td>NaN</td>\n",
              "      <td>NaN</td>\n",
              "      <td>NaN</td>\n",
              "      <td>NaN</td>\n",
              "      <td>NaN</td>\n",
              "      <td>NaN</td>\n",
              "      <td>NaN</td>\n",
              "      <td>NaN</td>\n",
              "      <td>...</td>\n",
              "      <td>NaN</td>\n",
              "      <td>NaN</td>\n",
              "      <td>NaN</td>\n",
              "      <td>NaN</td>\n",
              "      <td>NaN</td>\n",
              "      <td>NaN</td>\n",
              "      <td>NaN</td>\n",
              "      <td>NaN</td>\n",
              "      <td>NaN</td>\n",
              "      <td>NaN</td>\n",
              "    </tr>\n",
              "    <tr>\n",
              "      <th>1</th>\n",
              "      <td>NaT</td>\n",
              "      <td>SPY</td>\n",
              "      <td>xlp</td>\n",
              "      <td>DRR</td>\n",
              "      <td>VOO</td>\n",
              "      <td>IVV</td>\n",
              "      <td>rez</td>\n",
              "      <td>EUO</td>\n",
              "      <td>IWD</td>\n",
              "      <td>VPU</td>\n",
              "      <td>...</td>\n",
              "      <td>DOD</td>\n",
              "      <td>DPK</td>\n",
              "      <td>NaN</td>\n",
              "      <td>NaN</td>\n",
              "      <td>NaN</td>\n",
              "      <td>SPY</td>\n",
              "      <td>Tbill</td>\n",
              "      <td>DFM Squared</td>\n",
              "      <td>Excess return</td>\n",
              "      <td>Excess ret dev from mean sq</td>\n",
              "    </tr>\n",
              "    <tr>\n",
              "      <th>2</th>\n",
              "      <td>2010-10-01</td>\n",
              "      <td>0.03749</td>\n",
              "      <td>0.031424</td>\n",
              "      <td>0.137959</td>\n",
              "      <td>0.037059</td>\n",
              "      <td>0.037711</td>\n",
              "      <td>-0.023438</td>\n",
              "      <td>0.133399</td>\n",
              "      <td>0.030386</td>\n",
              "      <td>0.013309</td>\n",
              "      <td>...</td>\n",
              "      <td>0.023855</td>\n",
              "      <td>0.122274</td>\n",
              "      <td>NaN</td>\n",
              "      <td>NaN</td>\n",
              "      <td>NaN</td>\n",
              "      <td>NaN</td>\n",
              "      <td>NaN</td>\n",
              "      <td>NaN</td>\n",
              "      <td>NaN</td>\n",
              "      <td>NaN</td>\n",
              "    </tr>\n",
              "    <tr>\n",
              "      <th>3</th>\n",
              "      <td>2010-11-01</td>\n",
              "      <td>0</td>\n",
              "      <td>-0.015765</td>\n",
              "      <td>0.137959</td>\n",
              "      <td>-0.001109</td>\n",
              "      <td>-0.000673</td>\n",
              "      <td>-0.023438</td>\n",
              "      <td>0.133399</td>\n",
              "      <td>-0.006103</td>\n",
              "      <td>-0.024359</td>\n",
              "      <td>...</td>\n",
              "      <td>-0.035357</td>\n",
              "      <td>0.122274</td>\n",
              "      <td>NaN</td>\n",
              "      <td>NaN</td>\n",
              "      <td>NaN</td>\n",
              "      <td>NaN</td>\n",
              "      <td>NaN</td>\n",
              "      <td>NaN</td>\n",
              "      <td>NaN</td>\n",
              "      <td>NaN</td>\n",
              "    </tr>\n",
              "    <tr>\n",
              "      <th>4</th>\n",
              "      <td>2010-12-01</td>\n",
              "      <td>0.064712</td>\n",
              "      <td>0.043056</td>\n",
              "      <td>-0.060779</td>\n",
              "      <td>0.06692</td>\n",
              "      <td>0.065605</td>\n",
              "      <td>0.045196</td>\n",
              "      <td>-0.062506</td>\n",
              "      <td>0.076278</td>\n",
              "      <td>0.031453</td>\n",
              "      <td>...</td>\n",
              "      <td>0.065903</td>\n",
              "      <td>-0.254284</td>\n",
              "      <td>NaN</td>\n",
              "      <td>NaN</td>\n",
              "      <td>NaN</td>\n",
              "      <td>NaN</td>\n",
              "      <td>NaN</td>\n",
              "      <td>NaN</td>\n",
              "      <td>NaN</td>\n",
              "      <td>NaN</td>\n",
              "    </tr>\n",
              "    <tr>\n",
              "      <th>...</th>\n",
              "      <td>...</td>\n",
              "      <td>...</td>\n",
              "      <td>...</td>\n",
              "      <td>...</td>\n",
              "      <td>...</td>\n",
              "      <td>...</td>\n",
              "      <td>...</td>\n",
              "      <td>...</td>\n",
              "      <td>...</td>\n",
              "      <td>...</td>\n",
              "      <td>...</td>\n",
              "      <td>...</td>\n",
              "      <td>...</td>\n",
              "      <td>...</td>\n",
              "      <td>...</td>\n",
              "      <td>...</td>\n",
              "      <td>...</td>\n",
              "      <td>...</td>\n",
              "      <td>...</td>\n",
              "      <td>...</td>\n",
              "      <td>...</td>\n",
              "    </tr>\n",
              "    <tr>\n",
              "      <th>60</th>\n",
              "      <td>2015-08-03</td>\n",
              "      <td>-0.062887</td>\n",
              "      <td>-0.061482</td>\n",
              "      <td>-0.029661</td>\n",
              "      <td>-0.063326</td>\n",
              "      <td>-0.063406</td>\n",
              "      <td>-0.050767</td>\n",
              "      <td>-0.047925</td>\n",
              "      <td>-0.061518</td>\n",
              "      <td>-0.036618</td>\n",
              "      <td>...</td>\n",
              "      <td>-0.053554</td>\n",
              "      <td>0.207567</td>\n",
              "      <td>NaN</td>\n",
              "      <td>NaN</td>\n",
              "      <td>NaN</td>\n",
              "      <td>NaN</td>\n",
              "      <td>NaN</td>\n",
              "      <td>NaN</td>\n",
              "      <td>NaN</td>\n",
              "      <td>NaN</td>\n",
              "    </tr>\n",
              "    <tr>\n",
              "      <th>61</th>\n",
              "      <td>2015-09-01</td>\n",
              "      <td>-0.025847</td>\n",
              "      <td>0.003891</td>\n",
              "      <td>0.001759</td>\n",
              "      <td>-0.024965</td>\n",
              "      <td>-0.025247</td>\n",
              "      <td>0.047685</td>\n",
              "      <td>0.004938</td>\n",
              "      <td>-0.03122</td>\n",
              "      <td>0.026808</td>\n",
              "      <td>...</td>\n",
              "      <td>-0.026104</td>\n",
              "      <td>0.103129</td>\n",
              "      <td>NaN</td>\n",
              "      <td>NaN</td>\n",
              "      <td>NaN</td>\n",
              "      <td>NaN</td>\n",
              "      <td>NaN</td>\n",
              "      <td>NaN</td>\n",
              "      <td>NaN</td>\n",
              "      <td>NaN</td>\n",
              "    </tr>\n",
              "    <tr>\n",
              "      <th>62</th>\n",
              "      <td>2015-10-01</td>\n",
              "      <td>0.081635</td>\n",
              "      <td>0.055438</td>\n",
              "      <td>0.034036</td>\n",
              "      <td>0.081132</td>\n",
              "      <td>0.081335</td>\n",
              "      <td>0.016726</td>\n",
              "      <td>0.029527</td>\n",
              "      <td>0.07246</td>\n",
              "      <td>0.019271</td>\n",
              "      <td>...</td>\n",
              "      <td>0.099913</td>\n",
              "      <td>-0.20275</td>\n",
              "      <td>NaN</td>\n",
              "      <td>NaN</td>\n",
              "      <td>NaN</td>\n",
              "      <td>NaN</td>\n",
              "      <td>NaN</td>\n",
              "      <td>NaN</td>\n",
              "      <td>NaN</td>\n",
              "      <td>NaN</td>\n",
              "    </tr>\n",
              "    <tr>\n",
              "      <th>63</th>\n",
              "      <td>2015-11-02</td>\n",
              "      <td>0.003648</td>\n",
              "      <td>-0.009265</td>\n",
              "      <td>0.081831</td>\n",
              "      <td>0.004242</td>\n",
              "      <td>0.003915</td>\n",
              "      <td>0.020521</td>\n",
              "      <td>0.077802</td>\n",
              "      <td>0.004477</td>\n",
              "      <td>-0.021532</td>\n",
              "      <td>...</td>\n",
              "      <td>0.001939</td>\n",
              "      <td>0.016512</td>\n",
              "      <td>NaN</td>\n",
              "      <td>NaN</td>\n",
              "      <td>NaN</td>\n",
              "      <td>NaN</td>\n",
              "      <td>NaN</td>\n",
              "      <td>NaN</td>\n",
              "      <td>NaN</td>\n",
              "      <td>NaN</td>\n",
              "    </tr>\n",
              "    <tr>\n",
              "      <th>64</th>\n",
              "      <td>2015-12-01</td>\n",
              "      <td>-0.017434</td>\n",
              "      <td>0.028759</td>\n",
              "      <td>-0.067831</td>\n",
              "      <td>-0.017535</td>\n",
              "      <td>-0.01748</td>\n",
              "      <td>0.038173</td>\n",
              "      <td>-0.060417</td>\n",
              "      <td>-0.022292</td>\n",
              "      <td>0.021401</td>\n",
              "      <td>...</td>\n",
              "      <td>0.00129</td>\n",
              "      <td>0.053151</td>\n",
              "      <td>NaN</td>\n",
              "      <td>NaN</td>\n",
              "      <td>NaN</td>\n",
              "      <td>NaN</td>\n",
              "      <td>NaN</td>\n",
              "      <td>NaN</td>\n",
              "      <td>NaN</td>\n",
              "      <td>NaN</td>\n",
              "    </tr>\n",
              "  </tbody>\n",
              "</table>\n",
              "<p>65 rows × 26 columns</p>\n",
              "</div>\n",
              "      <button class=\"colab-df-convert\" onclick=\"convertToInteractive('df-08dccf7e-81c2-4471-9454-b3617a46541d')\"\n",
              "              title=\"Convert this dataframe to an interactive table.\"\n",
              "              style=\"display:none;\">\n",
              "        \n",
              "  <svg xmlns=\"http://www.w3.org/2000/svg\" height=\"24px\"viewBox=\"0 0 24 24\"\n",
              "       width=\"24px\">\n",
              "    <path d=\"M0 0h24v24H0V0z\" fill=\"none\"/>\n",
              "    <path d=\"M18.56 5.44l.94 2.06.94-2.06 2.06-.94-2.06-.94-.94-2.06-.94 2.06-2.06.94zm-11 1L8.5 8.5l.94-2.06 2.06-.94-2.06-.94L8.5 2.5l-.94 2.06-2.06.94zm10 10l.94 2.06.94-2.06 2.06-.94-2.06-.94-.94-2.06-.94 2.06-2.06.94z\"/><path d=\"M17.41 7.96l-1.37-1.37c-.4-.4-.92-.59-1.43-.59-.52 0-1.04.2-1.43.59L10.3 9.45l-7.72 7.72c-.78.78-.78 2.05 0 2.83L4 21.41c.39.39.9.59 1.41.59.51 0 1.02-.2 1.41-.59l7.78-7.78 2.81-2.81c.8-.78.8-2.07 0-2.86zM5.41 20L4 18.59l7.72-7.72 1.47 1.35L5.41 20z\"/>\n",
              "  </svg>\n",
              "      </button>\n",
              "      \n",
              "  <style>\n",
              "    .colab-df-container {\n",
              "      display:flex;\n",
              "      flex-wrap:wrap;\n",
              "      gap: 12px;\n",
              "    }\n",
              "\n",
              "    .colab-df-convert {\n",
              "      background-color: #E8F0FE;\n",
              "      border: none;\n",
              "      border-radius: 50%;\n",
              "      cursor: pointer;\n",
              "      display: none;\n",
              "      fill: #1967D2;\n",
              "      height: 32px;\n",
              "      padding: 0 0 0 0;\n",
              "      width: 32px;\n",
              "    }\n",
              "\n",
              "    .colab-df-convert:hover {\n",
              "      background-color: #E2EBFA;\n",
              "      box-shadow: 0px 1px 2px rgba(60, 64, 67, 0.3), 0px 1px 3px 1px rgba(60, 64, 67, 0.15);\n",
              "      fill: #174EA6;\n",
              "    }\n",
              "\n",
              "    [theme=dark] .colab-df-convert {\n",
              "      background-color: #3B4455;\n",
              "      fill: #D2E3FC;\n",
              "    }\n",
              "\n",
              "    [theme=dark] .colab-df-convert:hover {\n",
              "      background-color: #434B5C;\n",
              "      box-shadow: 0px 1px 3px 1px rgba(0, 0, 0, 0.15);\n",
              "      filter: drop-shadow(0px 1px 2px rgba(0, 0, 0, 0.3));\n",
              "      fill: #FFFFFF;\n",
              "    }\n",
              "  </style>\n",
              "\n",
              "      <script>\n",
              "        const buttonEl =\n",
              "          document.querySelector('#df-08dccf7e-81c2-4471-9454-b3617a46541d button.colab-df-convert');\n",
              "        buttonEl.style.display =\n",
              "          google.colab.kernel.accessAllowed ? 'block' : 'none';\n",
              "\n",
              "        async function convertToInteractive(key) {\n",
              "          const element = document.querySelector('#df-08dccf7e-81c2-4471-9454-b3617a46541d');\n",
              "          const dataTable =\n",
              "            await google.colab.kernel.invokeFunction('convertToInteractive',\n",
              "                                                     [key], {});\n",
              "          if (!dataTable) return;\n",
              "\n",
              "          const docLinkHtml = 'Like what you see? Visit the ' +\n",
              "            '<a target=\"_blank\" href=https://colab.research.google.com/notebooks/data_table.ipynb>data table notebook</a>'\n",
              "            + ' to learn more about interactive tables.';\n",
              "          element.innerHTML = '';\n",
              "          dataTable['output_type'] = 'display_data';\n",
              "          await google.colab.output.renderOutput(dataTable, element);\n",
              "          const docLink = document.createElement('div');\n",
              "          docLink.innerHTML = docLinkHtml;\n",
              "          element.appendChild(docLink);\n",
              "        }\n",
              "      </script>\n",
              "    </div>\n",
              "  </div>\n",
              "  "
            ]
          },
          "metadata": {},
          "execution_count": 12
        },
        {
          "output_type": "stream",
          "name": "stdout",
          "text": [
            "Warning: Total number of columns (26) exceeds max_columns (20) limiting to first (20) columns.\n"
          ]
        }
      ]
    },
    {
      "cell_type": "code",
      "metadata": {
        "id": "6ZXm_LTgLF3O",
        "outputId": "84ca44a8-ac61-4df3-94d8-78fd36f21367",
        "colab": {
          "base_uri": "https://localhost:8080/"
        }
      },
      "source": [
        "!pip install openpyxl"
      ],
      "execution_count": 13,
      "outputs": [
        {
          "output_type": "stream",
          "name": "stdout",
          "text": [
            "Looking in indexes: https://pypi.org/simple, https://us-python.pkg.dev/colab-wheels/public/simple/\n",
            "Requirement already satisfied: openpyxl in /usr/local/lib/python3.7/dist-packages (3.0.10)\n",
            "Requirement already satisfied: et-xmlfile in /usr/local/lib/python3.7/dist-packages (from openpyxl) (1.1.0)\n"
          ]
        }
      ]
    },
    {
      "cell_type": "code",
      "metadata": {
        "id": "3B0R2UihQ0yb",
        "outputId": "4faceaaf-2d96-4f51-ea30-0cdf69a26109",
        "colab": {
          "base_uri": "https://localhost:8080/"
        }
      },
      "source": [
        "import openpyxl as exceltool\n",
        "ps = exceltool.load_workbook('Copy of Portfolio Optimization - ETF challenge.xlsx')\n",
        "sheet = ps['Returns ALL ']\n",
        "print(type(sheet))\n",
        "sheet.max_row\n",
        "#returns the total number of rows in the sheet"
      ],
      "execution_count": 15,
      "outputs": [
        {
          "output_type": "stream",
          "name": "stdout",
          "text": [
            "<class 'openpyxl.worksheet.worksheet.Worksheet'>\n"
          ]
        },
        {
          "output_type": "execute_result",
          "data": {
            "text/plain": [
              "185"
            ]
          },
          "metadata": {},
          "execution_count": 15
        }
      ]
    },
    {
      "cell_type": "code",
      "metadata": {
        "id": "cVB1JWQ7VD-P",
        "outputId": "e19b56e0-6f9f-436a-b1f4-f5de1cd88218",
        "colab": {
          "base_uri": "https://localhost:8080/",
          "height": 236
        }
      },
      "source": [
        "for row in range(2, sheet.max_row + 1):\n",
        "# each row in the spreadsheet represents information for a particular purchase.\n",
        "  produce = sheet[ + str(row)].value\n",
        "  # cost_per_pound = sheet[‘C’ + str(row)].value\n",
        "  # pounds_sold = sheet[‘D’ + str(row)].value\n",
        "  # total_sales = sheet[‘E’ + str(row)].value\n",
        "  # the first column is B followed by C and so on."
      ],
      "execution_count": 16,
      "outputs": [
        {
          "output_type": "error",
          "ename": "TypeError",
          "evalue": "ignored",
          "traceback": [
            "\u001b[0;31m---------------------------------------------------------------------------\u001b[0m",
            "\u001b[0;31mTypeError\u001b[0m                                 Traceback (most recent call last)",
            "\u001b[0;32m<ipython-input-16-7a1c71cd2bea>\u001b[0m in \u001b[0;36m<module>\u001b[0;34m\u001b[0m\n\u001b[1;32m      1\u001b[0m \u001b[0;32mfor\u001b[0m \u001b[0mrow\u001b[0m \u001b[0;32min\u001b[0m \u001b[0mrange\u001b[0m\u001b[0;34m(\u001b[0m\u001b[0;36m2\u001b[0m\u001b[0;34m,\u001b[0m \u001b[0msheet\u001b[0m\u001b[0;34m.\u001b[0m\u001b[0mmax_row\u001b[0m \u001b[0;34m+\u001b[0m \u001b[0;36m1\u001b[0m\u001b[0;34m)\u001b[0m\u001b[0;34m:\u001b[0m\u001b[0;34m\u001b[0m\u001b[0;34m\u001b[0m\u001b[0m\n\u001b[1;32m      2\u001b[0m \u001b[0;31m# each row in the spreadsheet represents information for a particular purchase.\u001b[0m\u001b[0;34m\u001b[0m\u001b[0;34m\u001b[0m\u001b[0;34m\u001b[0m\u001b[0m\n\u001b[0;32m----> 3\u001b[0;31m   \u001b[0mproduce\u001b[0m \u001b[0;34m=\u001b[0m \u001b[0msheet\u001b[0m\u001b[0;34m[\u001b[0m \u001b[0;34m+\u001b[0m \u001b[0mstr\u001b[0m\u001b[0;34m(\u001b[0m\u001b[0mrow\u001b[0m\u001b[0;34m)\u001b[0m\u001b[0;34m]\u001b[0m\u001b[0;34m.\u001b[0m\u001b[0mvalue\u001b[0m\u001b[0;34m\u001b[0m\u001b[0;34m\u001b[0m\u001b[0m\n\u001b[0m\u001b[1;32m      4\u001b[0m   \u001b[0;31m# cost_per_pound = sheet[‘C’ + str(row)].value\u001b[0m\u001b[0;34m\u001b[0m\u001b[0;34m\u001b[0m\u001b[0;34m\u001b[0m\u001b[0m\n\u001b[1;32m      5\u001b[0m   \u001b[0;31m# pounds_sold = sheet[‘D’ + str(row)].value\u001b[0m\u001b[0;34m\u001b[0m\u001b[0;34m\u001b[0m\u001b[0;34m\u001b[0m\u001b[0m\n",
            "\u001b[0;31mTypeError\u001b[0m: bad operand type for unary +: 'str'"
          ]
        }
      ]
    },
    {
      "cell_type": "code",
      "metadata": {
        "id": "c_0izeIubOjw",
        "outputId": "0b0e060d-c1f8-49a5-e167-570a27d963db",
        "colab": {
          "base_uri": "https://localhost:8080/"
        }
      },
      "source": [
        "table = pd.read_excel('Copy of Portfolio Optimization - ETF challenge.xlsx',\n",
        "                  sheet_name = 'Returns ALL ',\n",
        "                  header = 2,\n",
        "                  index_col = 0,\n",
        "                  # skiprows = 1,\n",
        "                  usecols = \"A,B,C,D,E,G,H,I,J,K,L,M,N,O,P,Q,R,S,T,U,V,W,X,Y,Z,AB\",\n",
        "                  convert_float = True\n",
        "                  )\n",
        "\n",
        "print(table, type(table))\n",
        "# table"
      ],
      "execution_count": 45,
      "outputs": [
        {
          "output_type": "stream",
          "name": "stdout",
          "text": [
            "                 SPY       xlp       DRR       VOO       rez       EUO  \\\n",
            "2010-10-01  0.037490  0.031424  0.137959  0.037059 -0.023438  0.133399   \n",
            "2010-11-01  0.000000 -0.015765  0.137959 -0.001109 -0.023438  0.133399   \n",
            "2010-12-01  0.064712  0.043056 -0.060779  0.066920  0.045196 -0.062506   \n",
            "2011-01-03  0.023033 -0.014779 -0.056334  0.021990  0.029271 -0.052564   \n",
            "2011-02-01  0.034148  0.028671 -0.021557  0.034077  0.046016 -0.019917   \n",
            "...              ...       ...       ...       ...       ...       ...   \n",
            "2015-08-03 -0.062887 -0.061482 -0.029661 -0.063326 -0.050767 -0.047925   \n",
            "2015-09-01 -0.025847  0.003891  0.001759 -0.024965  0.047685  0.004938   \n",
            "2015-10-01  0.081635  0.055438  0.034036  0.081132  0.016726  0.029527   \n",
            "2015-11-02  0.003648 -0.009265  0.081831  0.004242  0.020521  0.077802   \n",
            "2015-12-01 -0.017434  0.028759 -0.067831 -0.017535  0.038173 -0.060417   \n",
            "\n",
            "                 IWD       VPU       YCS       XLU  ...       DOD       DPK  \\\n",
            "2010-10-01  0.030386  0.013309  0.075308  0.010777  ...  0.023855  0.122274   \n",
            "2010-11-01 -0.006103 -0.024359  0.075308 -0.030732  ... -0.035357  0.122274   \n",
            "2010-12-01  0.076278  0.031453 -0.062462  0.030549  ...  0.065903 -0.254284   \n",
            "2011-01-03  0.021503  0.014357  0.019590  0.012052  ... -0.009674 -0.071865   \n",
            "2011-02-01  0.037170  0.016180 -0.009431  0.012220  ...  0.052083 -0.116901   \n",
            "...              ...       ...       ...       ...  ...       ...       ...   \n",
            "2015-08-03 -0.061518 -0.036618 -0.048663 -0.035164  ... -0.053554  0.207567   \n",
            "2015-09-01 -0.031220  0.026808 -0.022741  0.028522  ... -0.026104  0.103129   \n",
            "2015-10-01  0.072460  0.019271  0.010759  0.010570  ...  0.099913 -0.202750   \n",
            "2015-11-02  0.004477 -0.021532  0.038128 -0.021486  ...  0.001939  0.016512   \n",
            "2015-12-01 -0.022292  0.021401 -0.048091  0.020970  ...  0.001290  0.053151   \n",
            "\n",
            "            Unnamed: 18  Unnamed: 19  Unnamed: 20  SPY.1  Tbill  DFM Squared  \\\n",
            "2010-10-01          NaN          NaN          NaN    NaN    NaN          NaN   \n",
            "2010-11-01          NaN          NaN          NaN    NaN    NaN          NaN   \n",
            "2010-12-01          NaN          NaN          NaN    NaN    NaN          NaN   \n",
            "2011-01-03          NaN          NaN          NaN    NaN    NaN          NaN   \n",
            "2011-02-01          NaN          NaN          NaN    NaN    NaN          NaN   \n",
            "...                 ...          ...          ...    ...    ...          ...   \n",
            "2015-08-03          NaN          NaN          NaN    NaN    NaN          NaN   \n",
            "2015-09-01          NaN          NaN          NaN    NaN    NaN          NaN   \n",
            "2015-10-01          NaN          NaN          NaN    NaN    NaN          NaN   \n",
            "2015-11-02          NaN          NaN          NaN    NaN    NaN          NaN   \n",
            "2015-12-01          NaN          NaN          NaN    NaN    NaN          NaN   \n",
            "\n",
            "            Excess return  Excess ret dev from mean sq  \n",
            "2010-10-01            NaN                          NaN  \n",
            "2010-11-01            NaN                          NaN  \n",
            "2010-12-01            NaN                          NaN  \n",
            "2011-01-03            NaN                          NaN  \n",
            "2011-02-01            NaN                          NaN  \n",
            "...                   ...                          ...  \n",
            "2015-08-03            NaN                          NaN  \n",
            "2015-09-01            NaN                          NaN  \n",
            "2015-10-01            NaN                          NaN  \n",
            "2015-11-02            NaN                          NaN  \n",
            "2015-12-01            NaN                          NaN  \n",
            "\n",
            "[63 rows x 24 columns] <class 'pandas.core.frame.DataFrame'>\n"
          ]
        },
        {
          "output_type": "stream",
          "name": "stderr",
          "text": [
            "/usr/local/lib/python3.7/dist-packages/ipykernel_launcher.py:7: FutureWarning: convert_float is deprecated and will be removed in a future version\n",
            "  import sys\n",
            "/usr/local/lib/python3.7/dist-packages/pandas/io/excel/_base.py:1292: FutureWarning: Defining usecols with out of bounds indices is deprecated and will raise a ParserError in a future version.\n",
            "  **kwds,\n"
          ]
        }
      ]
    },
    {
      "cell_type": "code",
      "metadata": {
        "id": "wWpVjXS4TGpT",
        "outputId": "67eee25b-a6ae-4eee-9233-f3c541f62231",
        "colab": {
          "base_uri": "https://localhost:8080/"
        }
      },
      "source": [
        "df = table.copy()\n",
        "print (df.dtypes, type(df))"
      ],
      "execution_count": 46,
      "outputs": [
        {
          "output_type": "stream",
          "name": "stdout",
          "text": [
            "SPY                            float64\n",
            "xlp                            float64\n",
            "DRR                            float64\n",
            "VOO                            float64\n",
            "rez                            float64\n",
            "EUO                            float64\n",
            "IWD                            float64\n",
            "VPU                            float64\n",
            "YCS                            float64\n",
            "XLU                            float64\n",
            "xlp.1                          float64\n",
            "iyr                            float64\n",
            "rez.1                          float64\n",
            "SOXS                           float64\n",
            "DOD                            float64\n",
            "DPK                            float64\n",
            "Unnamed: 18                    float64\n",
            "Unnamed: 19                    float64\n",
            "Unnamed: 20                    float64\n",
            "SPY.1                          float64\n",
            "Tbill                          float64\n",
            "DFM Squared                    float64\n",
            "Excess return                  float64\n",
            "Excess ret dev from mean sq    float64\n",
            "dtype: object <class 'pandas.core.frame.DataFrame'>\n"
          ]
        }
      ]
    },
    {
      "cell_type": "code",
      "metadata": {
        "id": "4b2RoL9vlir7",
        "outputId": "0b737d46-c374-4633-faf5-436cff787526",
        "colab": {
          "base_uri": "https://localhost:8080/",
          "height": 346
        }
      },
      "source": [
        "# Extract year, month, days, into new columns \n",
        "# df['year']=\n",
        "import datetime\n",
        "# year = datetime.date.today().year\n",
        "# df['year']=datetime.date.df['Unnamed: 0'].year\n",
        "# print(df.head())\n",
        "\n",
        "# df = df[['Unnamed: 0']]\n",
        "# df['year']=datetime.date.today().year\n",
        "df['year'] = df['Unnamed: 18'].dt.year\n",
        "df['month'] = df['Unnamed: 19'].dt.month\n",
        "df['day'] = df['Unnamed: 20'].dt.day\n",
        "df['yr_freq'] = df.groupby(['year'])['day'].transform('size')\n",
        "df['yr_SPY_mean'] = df.groupby(['year'])['SPY'].transform('mean')\n",
        "df['mth_SPY_mean'] = df.groupby(['month'])['SPY'].transform('mean')\n",
        "print(df.head(20), type(df))\n",
        "df\n"
      ],
      "execution_count": 49,
      "outputs": [
        {
          "output_type": "error",
          "ename": "AttributeError",
          "evalue": "ignored",
          "traceback": [
            "\u001b[0;31m---------------------------------------------------------------------------\u001b[0m",
            "\u001b[0;31mAttributeError\u001b[0m                            Traceback (most recent call last)",
            "\u001b[0;32m<ipython-input-49-b1c0cb84ed0d>\u001b[0m in \u001b[0;36m<module>\u001b[0;34m\u001b[0m\n\u001b[1;32m      8\u001b[0m \u001b[0;31m# df = df[['Unnamed: 0']]\u001b[0m\u001b[0;34m\u001b[0m\u001b[0;34m\u001b[0m\u001b[0;34m\u001b[0m\u001b[0m\n\u001b[1;32m      9\u001b[0m \u001b[0;31m# df['year']=datetime.date.today().year\u001b[0m\u001b[0;34m\u001b[0m\u001b[0;34m\u001b[0m\u001b[0;34m\u001b[0m\u001b[0m\n\u001b[0;32m---> 10\u001b[0;31m \u001b[0mdf\u001b[0m\u001b[0;34m[\u001b[0m\u001b[0;34m'year'\u001b[0m\u001b[0;34m]\u001b[0m \u001b[0;34m=\u001b[0m \u001b[0mdf\u001b[0m\u001b[0;34m[\u001b[0m\u001b[0;34m'Unnamed: 18'\u001b[0m\u001b[0;34m]\u001b[0m\u001b[0;34m.\u001b[0m\u001b[0mdt\u001b[0m\u001b[0;34m.\u001b[0m\u001b[0myear\u001b[0m\u001b[0;34m\u001b[0m\u001b[0;34m\u001b[0m\u001b[0m\n\u001b[0m\u001b[1;32m     11\u001b[0m \u001b[0mdf\u001b[0m\u001b[0;34m[\u001b[0m\u001b[0;34m'month'\u001b[0m\u001b[0;34m]\u001b[0m \u001b[0;34m=\u001b[0m \u001b[0mdf\u001b[0m\u001b[0;34m[\u001b[0m\u001b[0;34m'Unnamed: 19'\u001b[0m\u001b[0;34m]\u001b[0m\u001b[0;34m.\u001b[0m\u001b[0mdt\u001b[0m\u001b[0;34m.\u001b[0m\u001b[0mmonth\u001b[0m\u001b[0;34m\u001b[0m\u001b[0;34m\u001b[0m\u001b[0m\n\u001b[1;32m     12\u001b[0m \u001b[0mdf\u001b[0m\u001b[0;34m[\u001b[0m\u001b[0;34m'day'\u001b[0m\u001b[0;34m]\u001b[0m \u001b[0;34m=\u001b[0m \u001b[0mdf\u001b[0m\u001b[0;34m[\u001b[0m\u001b[0;34m'Unnamed: 20'\u001b[0m\u001b[0;34m]\u001b[0m\u001b[0;34m.\u001b[0m\u001b[0mdt\u001b[0m\u001b[0;34m.\u001b[0m\u001b[0mday\u001b[0m\u001b[0;34m\u001b[0m\u001b[0;34m\u001b[0m\u001b[0m\n",
            "\u001b[0;32m/usr/local/lib/python3.7/dist-packages/pandas/core/generic.py\u001b[0m in \u001b[0;36m__getattr__\u001b[0;34m(self, name)\u001b[0m\n\u001b[1;32m   5485\u001b[0m         ):\n\u001b[1;32m   5486\u001b[0m             \u001b[0;32mreturn\u001b[0m \u001b[0mself\u001b[0m\u001b[0;34m[\u001b[0m\u001b[0mname\u001b[0m\u001b[0;34m]\u001b[0m\u001b[0;34m\u001b[0m\u001b[0;34m\u001b[0m\u001b[0m\n\u001b[0;32m-> 5487\u001b[0;31m         \u001b[0;32mreturn\u001b[0m \u001b[0mobject\u001b[0m\u001b[0;34m.\u001b[0m\u001b[0m__getattribute__\u001b[0m\u001b[0;34m(\u001b[0m\u001b[0mself\u001b[0m\u001b[0;34m,\u001b[0m \u001b[0mname\u001b[0m\u001b[0;34m)\u001b[0m\u001b[0;34m\u001b[0m\u001b[0;34m\u001b[0m\u001b[0m\n\u001b[0m\u001b[1;32m   5488\u001b[0m \u001b[0;34m\u001b[0m\u001b[0m\n\u001b[1;32m   5489\u001b[0m     \u001b[0;32mdef\u001b[0m \u001b[0m__setattr__\u001b[0m\u001b[0;34m(\u001b[0m\u001b[0mself\u001b[0m\u001b[0;34m,\u001b[0m \u001b[0mname\u001b[0m\u001b[0;34m:\u001b[0m \u001b[0mstr\u001b[0m\u001b[0;34m,\u001b[0m \u001b[0mvalue\u001b[0m\u001b[0;34m)\u001b[0m \u001b[0;34m->\u001b[0m \u001b[0;32mNone\u001b[0m\u001b[0;34m:\u001b[0m\u001b[0;34m\u001b[0m\u001b[0;34m\u001b[0m\u001b[0m\n",
            "\u001b[0;32m/usr/local/lib/python3.7/dist-packages/pandas/core/accessor.py\u001b[0m in \u001b[0;36m__get__\u001b[0;34m(self, obj, cls)\u001b[0m\n\u001b[1;32m    179\u001b[0m             \u001b[0;31m# we're accessing the attribute of the class, i.e., Dataset.geo\u001b[0m\u001b[0;34m\u001b[0m\u001b[0;34m\u001b[0m\u001b[0;34m\u001b[0m\u001b[0m\n\u001b[1;32m    180\u001b[0m             \u001b[0;32mreturn\u001b[0m \u001b[0mself\u001b[0m\u001b[0;34m.\u001b[0m\u001b[0m_accessor\u001b[0m\u001b[0;34m\u001b[0m\u001b[0;34m\u001b[0m\u001b[0m\n\u001b[0;32m--> 181\u001b[0;31m         \u001b[0maccessor_obj\u001b[0m \u001b[0;34m=\u001b[0m \u001b[0mself\u001b[0m\u001b[0;34m.\u001b[0m\u001b[0m_accessor\u001b[0m\u001b[0;34m(\u001b[0m\u001b[0mobj\u001b[0m\u001b[0;34m)\u001b[0m\u001b[0;34m\u001b[0m\u001b[0;34m\u001b[0m\u001b[0m\n\u001b[0m\u001b[1;32m    182\u001b[0m         \u001b[0;31m# Replace the property with the accessor object. Inspired by:\u001b[0m\u001b[0;34m\u001b[0m\u001b[0;34m\u001b[0m\u001b[0;34m\u001b[0m\u001b[0m\n\u001b[1;32m    183\u001b[0m         \u001b[0;31m# https://www.pydanny.com/cached-property.html\u001b[0m\u001b[0;34m\u001b[0m\u001b[0;34m\u001b[0m\u001b[0;34m\u001b[0m\u001b[0m\n",
            "\u001b[0;32m/usr/local/lib/python3.7/dist-packages/pandas/core/indexes/accessors.py\u001b[0m in \u001b[0;36m__new__\u001b[0;34m(cls, data)\u001b[0m\n\u001b[1;32m    504\u001b[0m             \u001b[0;32mreturn\u001b[0m \u001b[0mPeriodProperties\u001b[0m\u001b[0;34m(\u001b[0m\u001b[0mdata\u001b[0m\u001b[0;34m,\u001b[0m \u001b[0morig\u001b[0m\u001b[0;34m)\u001b[0m\u001b[0;34m\u001b[0m\u001b[0;34m\u001b[0m\u001b[0m\n\u001b[1;32m    505\u001b[0m \u001b[0;34m\u001b[0m\u001b[0m\n\u001b[0;32m--> 506\u001b[0;31m         \u001b[0;32mraise\u001b[0m \u001b[0mAttributeError\u001b[0m\u001b[0;34m(\u001b[0m\u001b[0;34m\"Can only use .dt accessor with datetimelike values\"\u001b[0m\u001b[0;34m)\u001b[0m\u001b[0;34m\u001b[0m\u001b[0;34m\u001b[0m\u001b[0m\n\u001b[0m",
            "\u001b[0;31mAttributeError\u001b[0m: Can only use .dt accessor with datetimelike values"
          ]
        }
      ]
    },
    {
      "cell_type": "code",
      "metadata": {
        "id": "7X4GZoZKatoS"
      },
      "source": [
        "\n",
        "ys = 200 + np.random.randn(100)\n",
        "x = [x for x in range(len(ys))]\n",
        "\n",
        "plt.plot(x, ys, '-')\n",
        "plt.fill_between(x, ys, 195, where=(ys > 195), facecolor='g', alpha=0.6)\n",
        "\n",
        "plt.title(\"Sample Visualization\")\n",
        "plt.show()"
      ],
      "execution_count": null,
      "outputs": []
    },
    {
      "cell_type": "code",
      "metadata": {
        "id": "OYnuYCBYokzN"
      },
      "source": [],
      "execution_count": null,
      "outputs": []
    },
    {
      "cell_type": "code",
      "metadata": {
        "id": "A_zoQbIDa0yt",
        "outputId": "8628277d-3059-42da-f408-7e6fa0d423c0",
        "colab": {
          "base_uri": "https://localhost:8080/",
          "height": 148
        }
      },
      "source": [
        "$ pip install googlefinance.get"
      ],
      "execution_count": null,
      "outputs": [
        {
          "output_type": "error",
          "ename": "SyntaxError",
          "evalue": "ignored",
          "traceback": [
            "\u001b[0;36m  File \u001b[0;32m\"<ipython-input-12-387afd5be192>\"\u001b[0;36m, line \u001b[0;32m1\u001b[0m\n\u001b[0;31m    $ pip install googlefinance.get\u001b[0m\n\u001b[0m    ^\u001b[0m\n\u001b[0;31mSyntaxError\u001b[0m\u001b[0;31m:\u001b[0m invalid syntax\n"
          ]
        }
      ]
    },
    {
      "cell_type": "markdown",
      "metadata": {
        "id": "OwuxHmxllTwN"
      },
      "source": [
        "## Machine learning\n",
        "\n",
        "With Colab you can import an image dataset, train an image classifier on it, and evaluate the model, all in just [a few lines of code](https://colab.research.google.com/github/tensorflow/docs/blob/master/site/en/tutorials/quickstart/beginner.ipynb). Colab notebooks execute code on Google's cloud servers, meaning you can leverage the power of Google hardware, including [GPUs and TPUs](#using-accelerated-hardware), regardless of the power of your machine. All you need is a browser."
      ]
    },
    {
      "cell_type": "markdown",
      "metadata": {
        "id": "ufxBm1yRnruN"
      },
      "source": [
        "Colab is used extensively in the machine learning community with applications including:\n",
        "- Getting started with TensorFlow\n",
        "- Developing and training neural networks\n",
        "- Experimenting with TPUs\n",
        "- Disseminating AI research\n",
        "- Creating tutorials\n",
        "\n",
        "To see sample Colab notebooks that demonstrate machine learning applications, see the [machine learning examples](#machine-learning-examples) below."
      ]
    },
    {
      "cell_type": "markdown",
      "metadata": {
        "id": "-Rh3-Vt9Nev9"
      },
      "source": [
        "## More Resources\n",
        "\n",
        "### Working with Notebooks in Colab\n",
        "- [Overview of Colaboratory](/notebooks/basic_features_overview.ipynb)\n",
        "- [Guide to Markdown](/notebooks/markdown_guide.ipynb)\n",
        "- [Importing libraries and installing dependencies](/notebooks/snippets/importing_libraries.ipynb)\n",
        "- [Saving and loading notebooks in GitHub](https://colab.research.google.com/github/googlecolab/colabtools/blob/master/notebooks/colab-github-demo.ipynb)\n",
        "- [Interactive forms](/notebooks/forms.ipynb)\n",
        "- [Interactive widgets](/notebooks/widgets.ipynb)\n",
        "- <img src=\"/img/new.png\" height=\"20px\" align=\"left\" hspace=\"4px\" alt=\"New\"></img>\n",
        " [TensorFlow 2 in Colab](/notebooks/tensorflow_version.ipynb)\n",
        "\n",
        "<a name=\"working-with-data\"></a>\n",
        "### Working with Data\n",
        "- [Loading data: Drive, Sheets, and Google Cloud Storage](/notebooks/io.ipynb) \n",
        "- [Charts: visualizing data](/notebooks/charts.ipynb)\n",
        "- [Getting started with BigQuery](/notebooks/bigquery.ipynb)\n",
        "\n",
        "### Machine Learning Crash Course\n",
        "These are a few of the notebooks from Google's online Machine Learning course. See the [full course website](https://developers.google.com/machine-learning/crash-course/) for more.\n",
        "- [Intro to Pandas](/notebooks/mlcc/intro_to_pandas.ipynb)\n",
        "- [Tensorflow concepts](/notebooks/mlcc/tensorflow_programming_concepts.ipynb)\n",
        "- [First steps with TensorFlow](/notebooks/mlcc/first_steps_with_tensor_flow.ipynb)\n",
        "- [Intro to neural nets](/notebooks/mlcc/intro_to_neural_nets.ipynb)\n",
        "- [Intro to sparse data and embeddings](/notebooks/mlcc/intro_to_sparse_data_and_embeddings.ipynb)\n",
        "\n",
        "<a name=\"using-accelerated-hardware\"></a>\n",
        "### Using Accelerated Hardware\n",
        "- [TensorFlow with GPUs](/notebooks/gpu.ipynb)\n",
        "- [TensorFlow with TPUs](/notebooks/tpu.ipynb)"
      ]
    },
    {
      "cell_type": "markdown",
      "metadata": {
        "id": "P-H6Lw1vyNNd"
      },
      "source": [
        "<a name=\"machine-learning-examples\"></a>\n",
        "\n",
        "## Machine Learning Examples\n",
        "\n",
        "To see end-to-end examples of the interactive machine learning analyses that Colaboratory makes possible, check out these  tutorials using models from [TensorFlow Hub](https://tfhub.dev).\n",
        "\n",
        "A few featured examples:\n",
        "\n",
        "- [Retraining an Image Classifier](https://tensorflow.org/hub/tutorials/tf2_image_retraining): Build a Keras model on top of a pre-trained image classifier to distinguish flowers.\n",
        "- [Text Classification](https://tensorflow.org/hub/tutorials/tf2_text_classification): Classify IMDB movie reviews as either *positive* or *negative*.\n",
        "- [Style Transfer](https://tensorflow.org/hub/tutorials/tf2_arbitrary_image_stylization): Use deep learning to transfer style between images.\n",
        "- [Multilingual Universal Sentence Encoder Q&A](https://tensorflow.org/hub/tutorials/retrieval_with_tf_hub_universal_encoder_qa): Use a machine learning model to answer questions from the SQuAD dataset.\n",
        "- [Video Interpolation](https://tensorflow.org/hub/tutorials/tweening_conv3d): Predict what happened in a video between the first and the last frame.\n"
      ]
    }
  ]
}